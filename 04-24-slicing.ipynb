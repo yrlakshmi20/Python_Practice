{
 "cells": [
  {
   "cell_type": "markdown",
   "id": "e29437b8",
   "metadata": {},
   "source": [
    "1) What is the syntax for slicing a list in Python? Give me an example\n",
    "2) How do you access the first element of a list using slicing? Give me an example\n",
    "3) How can you slice a list to get the last two elements? Give me an example\n",
    "4) Can you use slicing to modify a list in-place? Give me an example\n",
    "5) How do you slice a tuple in Python? Give me an example\n",
    "6) Can you modify a tuple using slicing? Give me an example\n",
    "7) What is the syntax for slicing a string in Python? Give me an example\n",
    "8) How do you access the first character of a string using slicing? Give me an example\n",
    "9) How can you slice a string to get the last three characters? Give me an example\n",
    "10) Can you reverse a string using slicing? Give me an example\n",
    "11) Given a list my_list = [1, 2, 3, 4, 5, 6], how would you slice it to get the sublist [2, 3, 4]?\n",
    "12) Suppose you have a tuple my_tuple = (\"apple\", \"banana\", \"cherry\", \"orange\"). How would you slice it to get the tuple (\"banana\", \"cherry\")?\n",
    "13) Given a string my_string = \"Hello, world!\", how would you slice it to get the substring world?\n",
    "14) Suppose you have a list my_list = [10, 20, 30, 40, 50]. How would you slice it to get the sublist [10, 20]?\n",
    "15) Given a tuple my_tuple = (\"dog\", \"cat\", \"hamster\", \"bird\", \"fish\"), how would you slice it to get the tuple (\"hamster\", \"bird\")?\n",
    "16) Suppose you have a string my_string = \"Python is a popular programming language.\". How would you slice it to get the substring programming?\n",
    "17) Given a list my_list = [1, 2, 3, 4, 5], how would you slice it to get the sublist [3, 4]?\n",
    "18) Suppose you have a tuple my_tuple = (\"red\", \"green\", \"blue\", \"yellow\", \"orange\"). How would you slice it to get the tuple (\"green\", \"blue\", \"yellow\")?\n",
    "19) Given a string my_string = \"This is a test string.\", how would you slice it to get the substring test?\n",
    "20) Suppose you have a list my_list = [100, 200, 300, 400, 500]. How would you slice it to get the sublist [200, 300, 400]?"
   ]
  },
  {
   "cell_type": "code",
   "execution_count": 7,
   "id": "1118d3a6",
   "metadata": {},
   "outputs": [
    {
     "name": "stdout",
     "output_type": "stream",
     "text": [
      "[1, 2, 3, 4, 5, 6]\n"
     ]
    }
   ],
   "source": [
    "# 1.What is the syntax for slicing a list in Python?\n",
    "syntax: list[start:end:step]\n",
    "l = [1,2,3,4,5,6]\n",
    "print(l[0::1])"
   ]
  },
  {
   "cell_type": "code",
   "execution_count": 8,
   "id": "c73e3a3d",
   "metadata": {},
   "outputs": [
    {
     "data": {
      "text/plain": [
       "1"
      ]
     },
     "execution_count": 8,
     "metadata": {},
     "output_type": "execute_result"
    }
   ],
   "source": [
    "# 2. How do you access the first element of a list using slicing? Give me an example \n",
    "l[0]\n"
   ]
  },
  {
   "cell_type": "code",
   "execution_count": 12,
   "id": "b0b2a234",
   "metadata": {},
   "outputs": [
    {
     "data": {
      "text/plain": [
       "[5, 6]"
      ]
     },
     "execution_count": 12,
     "metadata": {},
     "output_type": "execute_result"
    }
   ],
   "source": [
    "# 3.How can you slice a list to get the last two elements? Give me an example \n",
    "l[4:]"
   ]
  },
  {
   "cell_type": "code",
   "execution_count": 13,
   "id": "12c81bf7",
   "metadata": {},
   "outputs": [
    {
     "name": "stdout",
     "output_type": "stream",
     "text": [
      "[1, 2, 3, 4, 5, 7]\n"
     ]
    }
   ],
   "source": [
    "# 4.Can you use slicing to modify a list in-place? Give me an example\n",
    "l[-1]= 7\n",
    "print(l)"
   ]
  },
  {
   "cell_type": "code",
   "execution_count": 14,
   "id": "c40c5304",
   "metadata": {},
   "outputs": [
    {
     "name": "stdout",
     "output_type": "stream",
     "text": [
      "(10, 20, 30, 40, 50, 60)\n"
     ]
    }
   ],
   "source": [
    "# 5.How do you slice a tuple in Python? Give me an example \n",
    "a = (10,20,30,40,50,60)\n",
    "print(a[::])"
   ]
  },
  {
   "cell_type": "code",
   "execution_count": 15,
   "id": "d0227e74",
   "metadata": {},
   "outputs": [
    {
     "ename": "TypeError",
     "evalue": "'tuple' object does not support item assignment",
     "output_type": "error",
     "traceback": [
      "\u001b[0;31m---------------------------------------------------------------------------\u001b[0m",
      "\u001b[0;31mTypeError\u001b[0m                                 Traceback (most recent call last)",
      "\u001b[0;32m/var/folders/71/s9hv949j4z13dzzgc8fwt4nr0000gn/T/ipykernel_1472/3785411626.py\u001b[0m in \u001b[0;36m<module>\u001b[0;34m\u001b[0m\n\u001b[1;32m      1\u001b[0m \u001b[0;31m# 6.Can you modify a tuple using slicing? Give me an example\u001b[0m\u001b[0;34m\u001b[0m\u001b[0;34m\u001b[0m\u001b[0m\n\u001b[0;32m----> 2\u001b[0;31m \u001b[0ma\u001b[0m\u001b[0;34m[\u001b[0m\u001b[0;36m1\u001b[0m\u001b[0;34m]\u001b[0m \u001b[0;34m=\u001b[0m \u001b[0;36m25\u001b[0m\u001b[0;34m\u001b[0m\u001b[0;34m\u001b[0m\u001b[0m\n\u001b[0m\u001b[1;32m      3\u001b[0m \u001b[0mprint\u001b[0m\u001b[0;34m(\u001b[0m\u001b[0ma\u001b[0m\u001b[0;34m)\u001b[0m\u001b[0;34m\u001b[0m\u001b[0;34m\u001b[0m\u001b[0m\n",
      "\u001b[0;31mTypeError\u001b[0m: 'tuple' object does not support item assignment"
     ]
    }
   ],
   "source": [
    "# 6.Can you modify a tuple using slicing? Give me an example\n",
    "a[1] = 25\n",
    "print(a)\n",
    "Tuples cannot be modified . It is immutable.When you try to do the modification it shows the below error."
   ]
  },
  {
   "cell_type": "code",
   "execution_count": 19,
   "id": "10c91b72",
   "metadata": {},
   "outputs": [
    {
     "data": {
      "text/plain": [
       "'hello python'"
      ]
     },
     "execution_count": 19,
     "metadata": {},
     "output_type": "execute_result"
    }
   ],
   "source": [
    "# 7.What is the syntax for slicing a string in Python? Give me an example \n",
    "# syntax (start:end:step)\n",
    "s = (\"hello python\")\n",
    "s[::]"
   ]
  },
  {
   "cell_type": "code",
   "execution_count": 20,
   "id": "12974f81",
   "metadata": {},
   "outputs": [
    {
     "data": {
      "text/plain": [
       "'h'"
      ]
     },
     "execution_count": 20,
     "metadata": {},
     "output_type": "execute_result"
    }
   ],
   "source": [
    "# 8.How do you access the first character of a string using slicing? Give me an example \n",
    "s[0]"
   ]
  },
  {
   "cell_type": "code",
   "execution_count": 21,
   "id": "d4f954e6",
   "metadata": {},
   "outputs": [
    {
     "data": {
      "text/plain": [
       "'hon'"
      ]
     },
     "execution_count": 21,
     "metadata": {},
     "output_type": "execute_result"
    }
   ],
   "source": [
    "# 9.How can you slice a string to get the last three characters? Give me an example\n",
    "s[9:]"
   ]
  },
  {
   "cell_type": "code",
   "execution_count": 22,
   "id": "f6d7625d",
   "metadata": {},
   "outputs": [
    {
     "data": {
      "text/plain": [
       "'nohtyp olleh'"
      ]
     },
     "execution_count": 22,
     "metadata": {},
     "output_type": "execute_result"
    }
   ],
   "source": [
    "#10.Can you reverse a string using slicing? Give me an example \n",
    "s[::-1]"
   ]
  },
  {
   "cell_type": "code",
   "execution_count": 35,
   "id": "48a63aba",
   "metadata": {},
   "outputs": [
    {
     "data": {
      "text/plain": [
       "[2, 3, 4]"
      ]
     },
     "execution_count": 35,
     "metadata": {},
     "output_type": "execute_result"
    }
   ],
   "source": [
    "# 11.Given a list my_list = [1, 2, 3, 4, 5, 6], how would you slice it to get the sublist [2, 3, 4]?\n",
    "my_list = [1, 2, 3, 4, 5, 6]\n",
    "sub_lst = my_list[1:4]\n",
    "sub_lst"
   ]
  },
  {
   "cell_type": "code",
   "execution_count": 24,
   "id": "68e2a17c",
   "metadata": {},
   "outputs": [
    {
     "data": {
      "text/plain": [
       "('banana', 'cherry')"
      ]
     },
     "execution_count": 24,
     "metadata": {},
     "output_type": "execute_result"
    }
   ],
   "source": [
    "# 12.Suppose you have a tuple my_tuple = (\"apple\", \"banana\", \"cherry\", \"orange\"). How would you slice it to get the tuple (\"banana\", \"cherry\")\n",
    "my_tuple = (\"apple\", \"banana\", \"cherry\", \"orange\")\n",
    "my_tuple[1:3]"
   ]
  },
  {
   "cell_type": "code",
   "execution_count": 34,
   "id": "7a86382b",
   "metadata": {},
   "outputs": [
    {
     "data": {
      "text/plain": [
       "'world!'"
      ]
     },
     "execution_count": 34,
     "metadata": {},
     "output_type": "execute_result"
    }
   ],
   "source": [
    "# 13.Given a string my_string = \"Hello, world!\", how would you slice it to get the substring world?\n",
    "my_string = \"Hello, world!\"\n",
    "sub_str = my_string[7:]\n",
    "sub_str"
   ]
  },
  {
   "cell_type": "code",
   "execution_count": 33,
   "id": "12ee468c",
   "metadata": {},
   "outputs": [
    {
     "data": {
      "text/plain": [
       "[10, 20]"
      ]
     },
     "execution_count": 33,
     "metadata": {},
     "output_type": "execute_result"
    }
   ],
   "source": [
    "# 14.Suppose you have a list my_list = [10, 20, 30, 40, 50]. How would you slice it to get the sublist [10, 20]?\n",
    "my_list = [10, 20, 30, 40, 50]\n",
    "sub_lst = my_list[0:2]\n",
    "sub_lst"
   ]
  },
  {
   "cell_type": "code",
   "execution_count": 29,
   "id": "1f0ee982",
   "metadata": {},
   "outputs": [
    {
     "data": {
      "text/plain": [
       "('hamster', 'bird')"
      ]
     },
     "execution_count": 29,
     "metadata": {},
     "output_type": "execute_result"
    }
   ],
   "source": [
    "# 15.Given a tuple my_tuple = (\"dog\", \"cat\", \"hamster\", \"bird\", \"fish\"), how would you slice it to get the tuple (\"hamster\", \"bird\")? \n",
    "my_tuple = (\"dog\", \"cat\", \"hamster\", \"bird\", \"fish\")\n",
    "my_tuple[2:4]"
   ]
  },
  {
   "cell_type": "code",
   "execution_count": 30,
   "id": "3629f096",
   "metadata": {},
   "outputs": [
    {
     "data": {
      "text/plain": [
       "'programming'"
      ]
     },
     "execution_count": 30,
     "metadata": {},
     "output_type": "execute_result"
    }
   ],
   "source": [
    "# 16.Suppose you have a string my_string = \"Python is a popular programming language.\". How would you slice it to get the substring programming? \n",
    "my_string = \"Python is a popular programming language.\"\n",
    "my_string[20:31]"
   ]
  },
  {
   "cell_type": "code",
   "execution_count": 32,
   "id": "b5ce85c1",
   "metadata": {},
   "outputs": [
    {
     "data": {
      "text/plain": [
       "[3, 4]"
      ]
     },
     "execution_count": 32,
     "metadata": {},
     "output_type": "execute_result"
    }
   ],
   "source": [
    "# 17.Given a list my_list = [1, 2, 3, 4, 5], how would you slice it to get the sublist [3, 4]\n",
    "my_list = [1, 2, 3, 4, 5]\n",
    "sub_list = my_list[2:-1]\n",
    "sub_list"
   ]
  },
  {
   "cell_type": "code",
   "execution_count": 37,
   "id": "5f7fec1f",
   "metadata": {},
   "outputs": [
    {
     "data": {
      "text/plain": [
       "('green', 'blue', 'yellow')"
      ]
     },
     "execution_count": 37,
     "metadata": {},
     "output_type": "execute_result"
    }
   ],
   "source": [
    "#18.Suppose you have a tuple my_tuple = (\"red\", \"green\", \"blue\", \"yellow\", \"orange\"). How would you slice it to get the tuple (\"green\", \"blue\", \"yellow\")? \n",
    "my_tuple = (\"red\", \"green\", \"blue\", \"yellow\", \"orange\")\n",
    "new_tuple = my_tuple[1:4]\n",
    "new_tuple"
   ]
  },
  {
   "cell_type": "code",
   "execution_count": 39,
   "id": "6fc1f88b",
   "metadata": {},
   "outputs": [
    {
     "data": {
      "text/plain": [
       "'test'"
      ]
     },
     "execution_count": 39,
     "metadata": {},
     "output_type": "execute_result"
    }
   ],
   "source": [
    "#19.Given a string my_string = \"This is a test string.\", how would you slice it to get the substring test?\n",
    "my_string = \"This is a test string.\"\n",
    "new_str = my_string[10:14]\n",
    "new_str"
   ]
  },
  {
   "cell_type": "code",
   "execution_count": 41,
   "id": "7a9628b3",
   "metadata": {},
   "outputs": [
    {
     "data": {
      "text/plain": [
       "[200, 300, 400]"
      ]
     },
     "execution_count": 41,
     "metadata": {},
     "output_type": "execute_result"
    }
   ],
   "source": [
    "#20.Suppose you have a list my_list = [100, 200, 300, 400, 500]. How would you slice it to get the sublist [200, 300, 400]?\n",
    "my_list = [100, 200, 300, 400, 500]\n",
    "sub_lst = my_list[1:4]\n",
    "sub_lst"
   ]
  },
  {
   "cell_type": "code",
   "execution_count": null,
   "id": "f8e75f65",
   "metadata": {},
   "outputs": [],
   "source": []
  }
 ],
 "metadata": {
  "kernelspec": {
   "display_name": "Python 3 (ipykernel)",
   "language": "python",
   "name": "python3"
  },
  "language_info": {
   "codemirror_mode": {
    "name": "ipython",
    "version": 3
   },
   "file_extension": ".py",
   "mimetype": "text/x-python",
   "name": "python",
   "nbconvert_exporter": "python",
   "pygments_lexer": "ipython3",
   "version": "3.9.7"
  }
 },
 "nbformat": 4,
 "nbformat_minor": 5
}
