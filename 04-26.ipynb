{
 "cells": [
  {
   "cell_type": "code",
   "execution_count": 1,
   "id": "e85e954a",
   "metadata": {},
   "outputs": [
    {
     "name": "stdout",
     "output_type": "stream",
     "text": [
      "[2, 4, 6, 8]\n"
     ]
    }
   ],
   "source": [
    "#1.Write a Python function that takes a list of integers and returns a new list with only the even numbers.\n",
    "num = []\n",
    "for i in range(1,10):\n",
    "    if i%2==0:\n",
    "        num.append(i)\n",
    "print(num)\n",
    "        "
   ]
  },
  {
   "cell_type": "code",
   "execution_count": 4,
   "id": "717f941e",
   "metadata": {},
   "outputs": [
    {
     "name": "stdout",
     "output_type": "stream",
     "text": [
      "8\n"
     ]
    }
   ],
   "source": [
    "#2) Create a Python function that takes in two numbers and returns their sum. If the two numbers are the same, return double their sum\n",
    "def num(a,b):\n",
    "    if a ==b:\n",
    "        print(2*(a+b))\n",
    "    else:\n",
    "        print(a+b)\n",
    "num(2,2)\n",
    "        "
   ]
  },
  {
   "cell_type": "code",
   "execution_count": 15,
   "id": "defe3441",
   "metadata": {},
   "outputs": [
    {
     "name": "stdout",
     "output_type": "stream",
     "text": [
      "enter a stringHello world\n",
      " 'Hello world'occurs {'H': 1, 'e': 1, 'l': 3, 'o': 2, ' ': 1, 'w': 1, 'r': 1, 'd': 1} times\n"
     ]
    }
   ],
   "source": [
    "#3) Write a Python function that takes in a string and prints out the frequency of each character in the string.\n",
    "str = input(\"enter a string\")\n",
    "frequency = {}\n",
    "for char in str:\n",
    "    if char in frequency:\n",
    "        frequency[char]+=1\n",
    "    else:\n",
    "        frequency[char]=1\n",
    "print(f\" '{str}'occurs {frequency} times\")"
   ]
  },
  {
   "cell_type": "code",
   "execution_count": 16,
   "id": "78d85c2a",
   "metadata": {},
   "outputs": [
    {
     "name": "stdout",
     "output_type": "stream",
     "text": [
      "3.0\n"
     ]
    }
   ],
   "source": [
    "#4) Create a Python function that takes in a list of numbers and returns the average of the list. If the list is empty, return None.\n",
    "def calculate_average(numbers):\n",
    "    if not numbers:  # check if the list is empty\n",
    "        return None\n",
    "    total = sum(numbers)\n",
    "    average = total / len(numbers)\n",
    "    return average\n",
    "my_numbers = [1, 2, 3, 4, 5]\n",
    "result = calculate_average(my_numbers)\n",
    "print(result) \n",
    "\n"
   ]
  },
  {
   "cell_type": "code",
   "execution_count": 17,
   "id": "f5155ca7",
   "metadata": {},
   "outputs": [
    {
     "name": "stdout",
     "output_type": "stream",
     "text": [
      "['banana', 'orange', 'watermelon']\n"
     ]
    }
   ],
   "source": [
    "#5) Write a Python function that takes in a list of strings and returns a new list with only the strings that have more than five characters.\n",
    "def filter_long_strings(strings):\n",
    "    result = []\n",
    "    for string in strings:\n",
    "        if len(string) > 5:\n",
    "            result.append(string)\n",
    "    return result\n",
    "my_strings = ['apple', 'banana', 'orange', 'kiwi', 'watermelon']\n",
    "result = filter_long_strings(my_strings)\n",
    "print(result)"
   ]
  },
  {
   "cell_type": "code",
   "execution_count": 18,
   "id": "57d70d94",
   "metadata": {},
   "outputs": [
    {
     "name": "stdout",
     "output_type": "stream",
     "text": [
      "2\n"
     ]
    }
   ],
   "source": [
    "#6) Create a Python function that takes in a list of integers and returns the second smallest number in the list.\n",
    "numbers = [5, 1, 3, 8, 2]\n",
    "\n",
    "if len(numbers) < 2:\n",
    "    result = None\n",
    "else:\n",
    "    smallest = second_smallest = float('inf')\n",
    "    for num in numbers:\n",
    "        if num < smallest:\n",
    "            second_smallest = smallest\n",
    "            smallest = num\n",
    "        elif num < second_smallest and num != smallest:\n",
    "            second_smallest = num\n",
    "    result = second_smallest if second_smallest != float('inf') else None\n",
    "\n",
    "print(result) "
   ]
  },
  {
   "cell_type": "code",
   "execution_count": 20,
   "id": "9e39be02",
   "metadata": {},
   "outputs": [
    {
     "name": "stdout",
     "output_type": "stream",
     "text": [
      "{3, 4, 5, 6, 7, 8}\n"
     ]
    }
   ],
   "source": [
    "#7) Write a Python function that takes in two lists of integers and returns a new list with the elements that are common to both lists.\n",
    "set1 = {1,2,3,4,5,6,7,8}\n",
    "set2 = {3,4,5,6,7,8}\n",
    "a = set1.intersection(set2)\n",
    "print(a)\n",
    "\n"
   ]
  },
  {
   "cell_type": "code",
   "execution_count": 24,
   "id": "a269eb82",
   "metadata": {},
   "outputs": [
    {
     "data": {
      "text/plain": [
       "'gomrigyhn'"
      ]
     },
     "execution_count": 24,
     "metadata": {},
     "output_type": "execute_result"
    }
   ],
   "source": [
    "#8) Create a Python function that takes in a string and returns a new string with every other character removed.\n",
    "str = \"goodmorning python\"\n",
    "new_str = str.replace(\" \",\"\")\n",
    "str1 = new_str[::2]\n",
    "str1\n",
    "\n"
   ]
  },
  {
   "cell_type": "code",
   "execution_count": 4,
   "id": "086fa09f",
   "metadata": {},
   "outputs": [
    {
     "data": {
      "text/plain": [
       "(2, 9)"
      ]
     },
     "execution_count": 4,
     "metadata": {},
     "output_type": "execute_result"
    }
   ],
   "source": [
    "#9) Write a Python function that takes in a list of numbers and returns the maximum and minimum values in the list.\n",
    "def min_max(numbers):\n",
    "    if len(numbers) == 0:\n",
    "        return None\n",
    "    min_val = max_val = numbers[0]\n",
    "    for num in numbers:\n",
    "        if num < min_val:\n",
    "            min_val = num\n",
    "        elif num > max_val:\n",
    "            max_val = num\n",
    "    return (min_val, max_val)\n",
    "\n",
    "numbers = [5,6,4,7,2,8,9]\n",
    "min_max(numbers)\n",
    "        "
   ]
  },
  {
   "cell_type": "code",
   "execution_count": 17,
   "id": "5f25280d",
   "metadata": {},
   "outputs": [
    {
     "data": {
      "text/plain": [
       "True"
      ]
     },
     "execution_count": 17,
     "metadata": {},
     "output_type": "execute_result"
    }
   ],
   "source": [
    "#10) Create a Python function that takes in a string and returns True if the string is a palindrome, and False otherwise.\n",
    "\n",
    "def is_palindrome(string):\n",
    "    string = ''.join(c for c in string if c.isalnum()).lower()\n",
    "    return string == string[::-1]\n",
    "    \n",
    "is_palindrome(\"deed\")\n",
    "\n",
    "\n",
    "    "
   ]
  },
  {
   "cell_type": "code",
   "execution_count": null,
   "id": "627a947f",
   "metadata": {},
   "outputs": [],
   "source": []
  },
  {
   "cell_type": "code",
   "execution_count": null,
   "id": "933daed3",
   "metadata": {},
   "outputs": [],
   "source": []
  }
 ],
 "metadata": {
  "kernelspec": {
   "display_name": "Python 3 (ipykernel)",
   "language": "python",
   "name": "python3"
  },
  "language_info": {
   "codemirror_mode": {
    "name": "ipython",
    "version": 3
   },
   "file_extension": ".py",
   "mimetype": "text/x-python",
   "name": "python",
   "nbconvert_exporter": "python",
   "pygments_lexer": "ipython3",
   "version": "3.9.7"
  }
 },
 "nbformat": 4,
 "nbformat_minor": 5
}
