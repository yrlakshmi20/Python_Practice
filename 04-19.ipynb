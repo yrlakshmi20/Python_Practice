{
 "cells": [
  {
   "cell_type": "markdown",
   "id": "96dece98",
   "metadata": {},
   "source": [
    "1. Write a Python program that uses a for loop to print all the even numbers between 10 and 50."
   ]
  },
  {
   "cell_type": "code",
   "execution_count": 2,
   "id": "312aa752",
   "metadata": {},
   "outputs": [
    {
     "name": "stdout",
     "output_type": "stream",
     "text": [
      "10\n",
      "12\n",
      "14\n",
      "16\n",
      "18\n",
      "20\n",
      "22\n",
      "24\n",
      "26\n",
      "28\n",
      "30\n",
      "32\n",
      "34\n",
      "36\n",
      "38\n",
      "40\n",
      "42\n",
      "44\n",
      "46\n",
      "48\n"
     ]
    }
   ],
   "source": [
    "for i in range(10,50):\n",
    "    if i%2 ==0:\n",
    "        print(i)"
   ]
  },
  {
   "cell_type": "markdown",
   "id": "dec191d4",
   "metadata": {},
   "source": [
    "2.Write a Python program that uses a while loop to print the Fibonacci sequence up to the 10th term."
   ]
  },
  {
   "cell_type": "code",
   "execution_count": 4,
   "id": "6c8dd3de",
   "metadata": {},
   "outputs": [
    {
     "name": "stdout",
     "output_type": "stream",
     "text": [
      "\n",
      "Please Enter the Range : 10\n",
      "0\n",
      "1\n",
      "1\n",
      "2\n",
      "3\n",
      "5\n",
      "8\n",
      "13\n",
      "21\n",
      "34\n"
     ]
    }
   ],
   "source": [
    "\n",
    "   Number = int(input(\"\\nPlease Enter the Range : \"))\n",
    "\n",
    "# Initializing First and Second Values\n",
    "i = 0\n",
    "First_Value = 0\n",
    "Second_Value = 1\n",
    "           \n",
    "# Find & Displaying\n",
    "while(i < Number):\n",
    "    if(i <= 1):\n",
    "        Next = i\n",
    "    else:\n",
    "        Next = First_Value + Second_Value\n",
    "        First_Value = Second_Value\n",
    "        Second_Value = Next\n",
    "    print(Next)\n",
    "    i = i + 1"
   ]
  },
  {
   "cell_type": "markdown",
   "id": "3f25acc3",
   "metadata": {},
   "source": [
    "3.Write a Python program that prints all the numbers from 1 to 100. But for multiples of three print \"Fizz\" instead of the number and for the multiples of five print \"Buzz\". For numbers which are multiples of both three and five print \"FizzBuzz\"."
   ]
  },
  {
   "cell_type": "code",
   "execution_count": 6,
   "id": "619f67a9",
   "metadata": {},
   "outputs": [
    {
     "name": "stdout",
     "output_type": "stream",
     "text": [
      "1\n",
      "2\n",
      "Fizz\n",
      "4\n",
      "Buzz\n",
      "Fizz\n",
      "7\n",
      "8\n",
      "Fizz\n",
      "Buzz\n",
      "11\n",
      "Fizz\n",
      "13\n",
      "14\n",
      "FizzBuzz\n",
      "16\n",
      "17\n",
      "Fizz\n",
      "19\n",
      "Buzz\n",
      "Fizz\n",
      "22\n",
      "23\n",
      "Fizz\n",
      "Buzz\n",
      "26\n",
      "Fizz\n",
      "28\n",
      "29\n",
      "FizzBuzz\n",
      "31\n",
      "32\n",
      "Fizz\n",
      "34\n",
      "Buzz\n",
      "Fizz\n",
      "37\n",
      "38\n",
      "Fizz\n",
      "Buzz\n",
      "41\n",
      "Fizz\n",
      "43\n",
      "44\n",
      "FizzBuzz\n",
      "46\n",
      "47\n",
      "Fizz\n",
      "49\n",
      "Buzz\n",
      "Fizz\n",
      "52\n",
      "53\n",
      "Fizz\n",
      "Buzz\n",
      "56\n",
      "Fizz\n",
      "58\n",
      "59\n",
      "FizzBuzz\n",
      "61\n",
      "62\n",
      "Fizz\n",
      "64\n",
      "Buzz\n",
      "Fizz\n",
      "67\n",
      "68\n",
      "Fizz\n",
      "Buzz\n",
      "71\n",
      "Fizz\n",
      "73\n",
      "74\n",
      "FizzBuzz\n",
      "76\n",
      "77\n",
      "Fizz\n",
      "79\n",
      "Buzz\n",
      "Fizz\n",
      "82\n",
      "83\n",
      "Fizz\n",
      "Buzz\n",
      "86\n",
      "Fizz\n",
      "88\n",
      "89\n",
      "FizzBuzz\n",
      "91\n",
      "92\n",
      "Fizz\n",
      "94\n",
      "Buzz\n",
      "Fizz\n",
      "97\n",
      "98\n",
      "Fizz\n",
      "Buzz\n"
     ]
    }
   ],
   "source": [
    "for num in range(1,101):\n",
    "\n",
    "    if num%3==0 and    num%5==0:\n",
    "        print(\"FizzBuzz\")\n",
    "        continue\n",
    "    if num%5==0:\n",
    "        print(\"Buzz\")\n",
    "        continue\n",
    "    if num%3 ==0:\n",
    "        print(\"Fizz\")\n",
    "        continue\n",
    "        \n",
    "    print(num)"
   ]
  },
  {
   "cell_type": "markdown",
   "id": "91bf9ca4",
   "metadata": {},
   "source": [
    "4. Write a Python program that uses the range function to print all the odd numbers between 1 and 20."
   ]
  },
  {
   "cell_type": "code",
   "execution_count": 6,
   "id": "3d36486b",
   "metadata": {},
   "outputs": [
    {
     "name": "stdout",
     "output_type": "stream",
     "text": [
      "1\n",
      "3\n",
      "5\n",
      "7\n",
      "9\n",
      "11\n",
      "13\n",
      "15\n",
      "17\n",
      "19\n"
     ]
    }
   ],
   "source": [
    "for i in range(1,20):\n",
    "    if i%2!=0:\n",
    "        print(i)"
   ]
  },
  {
   "cell_type": "markdown",
   "id": "318ba1e2",
   "metadata": {},
   "source": [
    "5.Write a Python program that takes a string as input and prints the reverse of the string using a for loop."
   ]
  },
  {
   "cell_type": "code",
   "execution_count": 8,
   "id": "5c0c34a0",
   "metadata": {},
   "outputs": [
    {
     "name": "stdout",
     "output_type": "stream",
     "text": [
      "Enter a string: pythoncoding\n",
      "Reverse of the string is: gnidocnohtyp\n"
     ]
    }
   ],
   "source": [
    "string = input(\"Enter a string: \")\n",
    "reverse_string = \"\"\n",
    "\n",
    "for i in range(len(string)-1, -1, -1):\n",
    "    reverse_string += string[i]\n",
    "\n",
    "print(\"Reverse of the string is:\", reverse_string)"
   ]
  },
  {
   "cell_type": "markdown",
   "id": "1092d6fa",
   "metadata": {},
   "source": [
    "6. Write a Python program that uses a while loop to reverse the order of the words in a given string."
   ]
  },
  {
   "cell_type": "code",
   "execution_count": 10,
   "id": "b66aa337",
   "metadata": {},
   "outputs": [
    {
     "name": "stdout",
     "output_type": "stream",
     "text": [
      "olleh\n"
     ]
    }
   ],
   "source": [
    "word = \"hello\"\n",
    "reverse_word = \"\"\n",
    "i = len(word) - 1\n",
    "\n",
    "while i >= 0:\n",
    "    reverse_word += word[i]\n",
    "    i -= 1\n",
    "\n",
    "print(reverse_word)\n"
   ]
  },
  {
   "cell_type": "markdown",
   "id": "3f9dc09f",
   "metadata": {},
   "source": [
    "Write a Python program that takes a string as input and prints the number of vowels in the string using a for loop."
   ]
  },
  {
   "cell_type": "code",
   "execution_count": 11,
   "id": "d87f731f",
   "metadata": {},
   "outputs": [
    {
     "name": "stdout",
     "output_type": "stream",
     "text": [
      "Enter a string:I am learning python\n",
      "vowels in string: 5\n"
     ]
    }
   ],
   "source": [
    "str = input(\"Enter a string:\")\n",
    "vowels = 0\n",
    "\n",
    "\n",
    "for char in str:\n",
    "    if char in 'aeiou':\n",
    "        \n",
    "        vowels += 1\n",
    "print(\"vowels in string:\",vowels)"
   ]
  },
  {
   "cell_type": "markdown",
   "id": "210fbb11",
   "metadata": {},
   "source": [
    "Write a Python program that uses a while loop to find and print the largest number in a list of numbers."
   ]
  },
  {
   "cell_type": "code",
   "execution_count": 12,
   "id": "620e0065",
   "metadata": {},
   "outputs": [
    {
     "name": "stdout",
     "output_type": "stream",
     "text": [
      "largest number is : 59\n"
     ]
    }
   ],
   "source": [
    "n = [23,43,54,21,32,59,26,20]\n",
    "i = 0\n",
    "largest = n[0]\n",
    "while i < len(n):\n",
    "    if  n[i] > largest:\n",
    "            largest = n[i]\n",
    "                      \n",
    "        \n",
    "    i += 1   \n",
    "print(\"largest number is :\", largest)"
   ]
  },
  {
   "cell_type": "markdown",
   "id": "dcde93de",
   "metadata": {},
   "source": [
    "Write a Python program that takes a list of integers as input and prints the sum of all the even numbers in the list using a for loop."
   ]
  },
  {
   "cell_type": "code",
   "execution_count": 14,
   "id": "f9d10ec6",
   "metadata": {},
   "outputs": [
    {
     "name": "stdout",
     "output_type": "stream",
     "text": [
      "30\n"
     ]
    }
   ],
   "source": [
    "list = [1,2,3,4,5,6,7,8,9,10]\n",
    "even_num = [l for l in list if l%2==0]\n",
    "sum_even = sum(even_num)\n",
    "print(sum_even)"
   ]
  },
  {
   "cell_type": "markdown",
   "id": "3d9104a2",
   "metadata": {},
   "source": [
    "Write a Python program that uses a for loop to print the multiplication table (1 to 10) for a given number."
   ]
  },
  {
   "cell_type": "code",
   "execution_count": 17,
   "id": "f25dc028",
   "metadata": {},
   "outputs": [
    {
     "name": "stdout",
     "output_type": "stream",
     "text": [
      "multiplication of number 1\n",
      "1 * 1 = 1\n",
      "1 * 2 = 2\n",
      "1 * 3 = 3\n",
      "1 * 4 = 4\n",
      "1 * 5 = 5\n",
      "1 * 6 = 6\n",
      "1 * 7 = 7\n",
      "1 * 8 = 8\n",
      "1 * 9 = 9\n",
      "1 * 10 = 10\n",
      "multiplication of number 2\n",
      "2 * 1 = 2\n",
      "2 * 2 = 4\n",
      "2 * 3 = 6\n",
      "2 * 4 = 8\n",
      "2 * 5 = 10\n",
      "2 * 6 = 12\n",
      "2 * 7 = 14\n",
      "2 * 8 = 16\n",
      "2 * 9 = 18\n",
      "2 * 10 = 20\n",
      "multiplication of number 3\n",
      "3 * 1 = 3\n",
      "3 * 2 = 6\n",
      "3 * 3 = 9\n",
      "3 * 4 = 12\n",
      "3 * 5 = 15\n",
      "3 * 6 = 18\n",
      "3 * 7 = 21\n",
      "3 * 8 = 24\n",
      "3 * 9 = 27\n",
      "3 * 10 = 30\n",
      "multiplication of number 4\n",
      "4 * 1 = 4\n",
      "4 * 2 = 8\n",
      "4 * 3 = 12\n",
      "4 * 4 = 16\n",
      "4 * 5 = 20\n",
      "4 * 6 = 24\n",
      "4 * 7 = 28\n",
      "4 * 8 = 32\n",
      "4 * 9 = 36\n",
      "4 * 10 = 40\n",
      "multiplication of number 5\n",
      "5 * 1 = 5\n",
      "5 * 2 = 10\n",
      "5 * 3 = 15\n",
      "5 * 4 = 20\n",
      "5 * 5 = 25\n",
      "5 * 6 = 30\n",
      "5 * 7 = 35\n",
      "5 * 8 = 40\n",
      "5 * 9 = 45\n",
      "5 * 10 = 50\n",
      "multiplication of number 6\n",
      "6 * 1 = 6\n",
      "6 * 2 = 12\n",
      "6 * 3 = 18\n",
      "6 * 4 = 24\n",
      "6 * 5 = 30\n",
      "6 * 6 = 36\n",
      "6 * 7 = 42\n",
      "6 * 8 = 48\n",
      "6 * 9 = 54\n",
      "6 * 10 = 60\n",
      "multiplication of number 7\n",
      "7 * 1 = 7\n",
      "7 * 2 = 14\n",
      "7 * 3 = 21\n",
      "7 * 4 = 28\n",
      "7 * 5 = 35\n",
      "7 * 6 = 42\n",
      "7 * 7 = 49\n",
      "7 * 8 = 56\n",
      "7 * 9 = 63\n",
      "7 * 10 = 70\n",
      "multiplication of number 8\n",
      "8 * 1 = 8\n",
      "8 * 2 = 16\n",
      "8 * 3 = 24\n",
      "8 * 4 = 32\n",
      "8 * 5 = 40\n",
      "8 * 6 = 48\n",
      "8 * 7 = 56\n",
      "8 * 8 = 64\n",
      "8 * 9 = 72\n",
      "8 * 10 = 80\n",
      "multiplication of number 9\n",
      "9 * 1 = 9\n",
      "9 * 2 = 18\n",
      "9 * 3 = 27\n",
      "9 * 4 = 36\n",
      "9 * 5 = 45\n",
      "9 * 6 = 54\n",
      "9 * 7 = 63\n",
      "9 * 8 = 72\n",
      "9 * 9 = 81\n",
      "9 * 10 = 90\n",
      "multiplication of number 10\n",
      "10 * 1 = 10\n",
      "10 * 2 = 20\n",
      "10 * 3 = 30\n",
      "10 * 4 = 40\n",
      "10 * 5 = 50\n",
      "10 * 6 = 60\n",
      "10 * 7 = 70\n",
      "10 * 8 = 80\n",
      "10 * 9 = 90\n",
      "10 * 10 = 100\n"
     ]
    }
   ],
   "source": [
    "for i in range (1,11):\n",
    "    if i >= 1:\n",
    "        print(\"multiplication of number\", i)\n",
    "    for j in range (1,11):\n",
    "        if i>=1:\n",
    "            print(i,\"*\",j,\"=\",i*j)"
   ]
  },
  {
   "cell_type": "code",
   "execution_count": 9,
   "id": "90b9b957",
   "metadata": {},
   "outputs": [
    {
     "data": {
      "text/plain": [
       "{'groupa': ['single', 'multi', 'condo', 'condominium'],\n",
       " 'groupb': ['low', 'medium', 'high', 'average'],\n",
       " 'groupc': ['urban', 'rural', 'citi', 'metro']}"
      ]
     },
     "execution_count": 9,
     "metadata": {},
     "output_type": "execute_result"
    }
   ],
   "source": [
    "house_info = {\"groupa\":['single','multi' ,'condo' ,'condominium'],\n",
    "        \"groupb\":['low', 'medium' ,'high' ,'average'],\n",
    "        \"groupc\":['urban', 'rural' ,'citi' ,'metro']}\n",
    "house_info"
   ]
  },
  {
   "cell_type": "markdown",
   "id": "d09a8ec4",
   "metadata": {},
   "source": [
    ". Write a Python program to create a dictionary with key-value pairs and print the dictionary. b. Write a Python program to remove a key from a dictionary. c. Write a Python program to sort a dictionary by key. d. Write a Python program to find the value associated with a given key in a dictionary."
   ]
  },
  {
   "cell_type": "code",
   "execution_count": 10,
   "id": "a995d3ab",
   "metadata": {},
   "outputs": [
    {
     "name": "stdout",
     "output_type": "stream",
     "text": [
      "{'groupb': ['low', 'medium', 'high', 'average'], 'groupc': ['urban', 'rural', 'citi', 'metro']}\n"
     ]
    }
   ],
   "source": [
    "del house_info['groupa']\n",
    "print(house_info)"
   ]
  },
  {
   "cell_type": "code",
   "execution_count": 12,
   "id": "77502ac4",
   "metadata": {},
   "outputs": [
    {
     "name": "stdout",
     "output_type": "stream",
     "text": [
      "apple\n",
      "apple\n",
      "banana\n",
      "orange\n",
      "orange\n",
      "pear\n"
     ]
    }
   ],
   "source": [
    "basket = ['apple', 'orange', 'apple', 'pear', 'orange', 'banana']\n",
    "for i in sorted(basket):\n",
    "    print(i)\n",
    "    "
   ]
  },
  {
   "cell_type": "code",
   "execution_count": 13,
   "id": "607eb6c4",
   "metadata": {},
   "outputs": [
    {
     "name": "stdout",
     "output_type": "stream",
     "text": [
      "r n b q k b n r\n",
      "p p p p p p p p\n",
      ". . . . . . . .\n",
      ". . . . . . . .\n",
      ". . . . . . . .\n",
      ". . . . . . . .\n",
      "P P P P P P P P\n",
      "R N B Q K B N R\n"
     ]
    }
   ],
   "source": [
    "# Define chess board\n",
    "board = [    ['r', 'n', 'b', 'q', 'k', 'b', 'n', 'r'],\n",
    "    ['p', 'p', 'p', 'p', 'p', 'p', 'p', 'p'],\n",
    "    ['.', '.', '.', '.', '.', '.', '.', '.'],\n",
    "    ['.', '.', '.', '.', '.', '.', '.', '.'],\n",
    "    ['.', '.', '.', '.', '.', '.', '.', '.'],\n",
    "    ['.', '.', '.', '.', '.', '.', '.', '.'],\n",
    "    ['P', 'P', 'P', 'P', 'P', 'P', 'P', 'P'],\n",
    "    ['R', 'N', 'B', 'Q', 'K', 'B', 'N', 'R']\n",
    "]\n",
    "\n",
    "# Define function to display chess board\n",
    "def display_board(board):\n",
    "    for row in board:\n",
    "        print(' '.join(row))\n",
    "\n",
    "# Display chess board\n",
    "display_board(board)"
   ]
  },
  {
   "cell_type": "code",
   "execution_count": 14,
   "id": "e2bbd6af",
   "metadata": {},
   "outputs": [
    {
     "name": "stdout",
     "output_type": "stream",
     "text": [
      "['low', 'medium', 'high', 'average']\n"
     ]
    }
   ],
   "source": [
    "print(house_info['groupb'])"
   ]
  },
  {
   "cell_type": "code",
   "execution_count": 8,
   "id": "4e22e06c",
   "metadata": {},
   "outputs": [
    {
     "name": "stdout",
     "output_type": "stream",
     "text": [
      "enter a string:malayalam\n",
      "The string is a palindrome: malayalam\n"
     ]
    }
   ],
   "source": [
    "string = input(\"enter a string:\")\n",
    "new_str = string[::-1]\n",
    "if string == new_str:\n",
    "    print(\"The string is a palindrome:\", string)\n",
    "else:\n",
    "    print(\"Not a palindrome\")\n",
    "\n"
   ]
  },
  {
   "cell_type": "code",
   "execution_count": 18,
   "id": "c992f90c",
   "metadata": {},
   "outputs": [
    {
     "name": "stdout",
     "output_type": "stream",
     "text": [
      "enter a string:Hello,\n",
      "enter a string:I am learning python \n"
     ]
    },
    {
     "data": {
      "text/plain": [
       "'HELLO,I AM LEARNING PYTHON '"
      ]
     },
     "execution_count": 18,
     "metadata": {},
     "output_type": "execute_result"
    }
   ],
   "source": [
    "string1 = input(\"enter a string:\")\n",
    "string2 = input(\"enter a string:\")\n",
    "new_str = (string1+string2).upper()\n",
    "new_str"
   ]
  },
  {
   "cell_type": "code",
   "execution_count": 39,
   "id": "5c68e2f6",
   "metadata": {},
   "outputs": [
    {
     "name": "stdout",
     "output_type": "stream",
     "text": [
      "The number of vowels: 8\n"
     ]
    }
   ],
   "source": [
    "# Develop a program that reads in a string and counts the number of vowels it contains.\n",
    "s = (\"HELLO,I AM LEARNING PYTHON\")\n",
    "vowels = 'aeiouAEIOU'\n",
    "count = 0\n",
    "for char in s:\n",
    "    if char in vowels:\n",
    "        count+=1\n",
    "print(\"The number of vowels:\",count)\n",
    "\n",
    "\n",
    "        \n",
    "        \n",
    "    "
   ]
  },
  {
   "cell_type": "code",
   "execution_count": 34,
   "id": "0ea714a4",
   "metadata": {},
   "outputs": [
    {
     "data": {
      "text/plain": [
       "[1, 2, 2, 3, 6, 35, 48, 65]"
      ]
     },
     "execution_count": 34,
     "metadata": {},
     "output_type": "execute_result"
    }
   ],
   "source": [
    "l = [1,2,3,6,48,2,35,65]\n",
    "l.sort()\n",
    "l"
   ]
  },
  {
   "cell_type": "code",
   "execution_count": 35,
   "id": "71260962",
   "metadata": {},
   "outputs": [
    {
     "data": {
      "text/plain": [
       "False"
      ]
     },
     "execution_count": 35,
     "metadata": {},
     "output_type": "execute_result"
    }
   ],
   "source": [
    "l.sort()==True"
   ]
  },
  {
   "cell_type": "code",
   "execution_count": 42,
   "id": "02992ff5",
   "metadata": {},
   "outputs": [
    {
     "name": "stdout",
     "output_type": "stream",
     "text": [
      "hellopython\n"
     ]
    }
   ],
   "source": [
    "# Write a Python program that takes a string and removes all the punctuation\n",
    "s = \"hello!!,python,\"\n",
    "p = \"!,@\"\n",
    "output = ''\n",
    "for each_char in s:\n",
    "    if each_char not in p:\n",
    "        output+=each_char\n",
    "print(output)\n",
    "        "
   ]
  },
  {
   "cell_type": "code",
   "execution_count": 50,
   "id": "a68bd307",
   "metadata": {},
   "outputs": [
    {
     "data": {
      "text/plain": [
       "'Hello Python Is A Language'"
      ]
     },
     "execution_count": 50,
     "metadata": {},
     "output_type": "execute_result"
    }
   ],
   "source": [
    "# Create a program that reads in a string and capitalizes the first letter of every word in the string.\n",
    "s = \"hello python is a language\"\n",
    "ns = s.title() \n",
    "ns\n",
    "\n"
   ]
  },
  {
   "cell_type": "code",
   "execution_count": null,
   "id": "0a1a0568",
   "metadata": {},
   "outputs": [],
   "source": []
  },
  {
   "cell_type": "code",
   "execution_count": null,
   "id": "143b0102",
   "metadata": {},
   "outputs": [],
   "source": []
  },
  {
   "cell_type": "code",
   "execution_count": null,
   "id": "3bba1e61",
   "metadata": {},
   "outputs": [],
   "source": []
  },
  {
   "cell_type": "code",
   "execution_count": null,
   "id": "c1bcfacb",
   "metadata": {},
   "outputs": [],
   "source": []
  },
  {
   "cell_type": "code",
   "execution_count": null,
   "id": "354eefbd",
   "metadata": {},
   "outputs": [],
   "source": []
  },
  {
   "cell_type": "code",
   "execution_count": null,
   "id": "8e0c8077",
   "metadata": {},
   "outputs": [],
   "source": []
  }
 ],
 "metadata": {
  "kernelspec": {
   "display_name": "Python 3 (ipykernel)",
   "language": "python",
   "name": "python3"
  },
  "language_info": {
   "codemirror_mode": {
    "name": "ipython",
    "version": 3
   },
   "file_extension": ".py",
   "mimetype": "text/x-python",
   "name": "python",
   "nbconvert_exporter": "python",
   "pygments_lexer": "ipython3",
   "version": "3.9.7"
  }
 },
 "nbformat": 4,
 "nbformat_minor": 5
}
