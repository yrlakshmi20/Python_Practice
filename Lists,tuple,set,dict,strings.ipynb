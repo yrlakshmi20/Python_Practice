{
 "cells": [
  {
   "cell_type": "markdown",
   "id": "7d024fa9",
   "metadata": {},
   "source": [
    " # Lists\n",
    "a. Write a Python program to find the sum of all the elements in a given list.\n",
    "b. Write a Python program to remove duplicates from a list.\n",
    "c. Write a Python program to find the second largest number in a given list.\n",
    "d. Write a Python program to sort a given list in descending order."
   ]
  },
  {
   "cell_type": "code",
   "execution_count": 1,
   "id": "02d6798c",
   "metadata": {},
   "outputs": [
    {
     "data": {
      "text/plain": [
       "55"
      ]
     },
     "execution_count": 1,
     "metadata": {},
     "output_type": "execute_result"
    }
   ],
   "source": [
    "l = [1,2,3,4,5,6,7,8,9,10]\n",
    "sum(l)"
   ]
  },
  {
   "cell_type": "code",
   "execution_count": 11,
   "id": "c53ec4c2",
   "metadata": {},
   "outputs": [
    {
     "name": "stdout",
     "output_type": "stream",
     "text": [
      "original list: [2, 4, 6, 3, 8, 3, 5, 4, 5, 6, 3, 6, 8]\n",
      "list without duplicates: [2, 3, 4, 5, 6, 8]\n"
     ]
    }
   ],
   "source": [
    "a = [2,4,6,3,8,3,5,4,5,6,3,6,8]\n",
    "print(\"original list:\",a)\n",
    "new = [*set(a)]\n",
    "print(\"list without duplicates:\", new)"
   ]
  },
  {
   "cell_type": "code",
   "execution_count": 25,
   "id": "e26242ba",
   "metadata": {},
   "outputs": [
    {
     "name": "stdout",
     "output_type": "stream",
     "text": [
      "Second largest number is: 10\n"
     ]
    }
   ],
   "source": [
    "b = [2,4,6,3,8,3,5,4,5,6,3,6,8,9,10,12]\n",
    "\n",
    "largest = b[0]\n",
    "second_largest = None\n",
    "\n",
    "for num in b:\n",
    "    if num > largest:\n",
    "        second_largest = largest\n",
    "        largest = num\n",
    "    elif second_largest is None or num > second_largest:\n",
    "        second_largest = num\n",
    "\n",
    "print(\"Second largest number is:\", second_largest)\n",
    "    "
   ]
  },
  {
   "cell_type": "code",
   "execution_count": 13,
   "id": "28da410f",
   "metadata": {},
   "outputs": [
    {
     "data": {
      "text/plain": [
       "[10, 9, 8, 7, 6, 5, 4, 3, 2, 1]"
      ]
     },
     "execution_count": 13,
     "metadata": {},
     "output_type": "execute_result"
    }
   ],
   "source": [
    "l = [1,2,3,4,5,6,7,8,9,10]\n",
    "l[::-1]"
   ]
  },
  {
   "cell_type": "markdown",
   "id": "ee9f0fca",
   "metadata": {},
   "source": [
    "# Sets\n",
    "a. Write a Python program to create a set of numbers and find the maximum and minimum values in the set.\n",
    "b. Write a Python program to remove a specific item from a set.\n",
    "c. Write a Python program to find the intersection and union of two given sets.\n",
    "d. Write a Python program to check if a given set is a subset of another set."
   ]
  },
  {
   "cell_type": "code",
   "execution_count": 32,
   "id": "a0cf0d97",
   "metadata": {},
   "outputs": [
    {
     "name": "stdout",
     "output_type": "stream",
     "text": [
      "max value in s: 8\n",
      "min value in s: 1\n"
     ]
    }
   ],
   "source": [
    "s = [2,4,3,4,5,6,4,7,1,8]\n",
    "max_s= max(s)\n",
    "min_s=min(s)\n",
    "print(\"max value in s:\", max(s))\n",
    "print(\"min value in s:\", min(s))"
   ]
  },
  {
   "cell_type": "code",
   "execution_count": 39,
   "id": "0696bac2",
   "metadata": {},
   "outputs": [],
   "source": [
    "i = [2,4,3,4,5,6,4,7,1,8]\n",
    "del(i[3])\n",
    "#removing 3rd ele"
   ]
  },
  {
   "cell_type": "code",
   "execution_count": 40,
   "id": "8955b9b0",
   "metadata": {},
   "outputs": [
    {
     "data": {
      "text/plain": [
       "[2, 4, 3, 5, 6, 4, 7, 1, 8]"
      ]
     },
     "execution_count": 40,
     "metadata": {},
     "output_type": "execute_result"
    }
   ],
   "source": [
    "i"
   ]
  },
  {
   "cell_type": "code",
   "execution_count": 12,
   "id": "4a6ee80e",
   "metadata": {
    "scrolled": true
   },
   "outputs": [
    {
     "name": "stdout",
     "output_type": "stream",
     "text": [
      "Enter first set of elements seperated by space:1 2 3 4 5 6 \n",
      "Enter second set of elements seperated by space:1 2 3\n",
      "intersection: {'1', '3', '2'}\n",
      "union: {'4', '6', '1', '2', '3', '5'}\n",
      "subset: False\n",
      "subset1: True\n"
     ]
    }
   ],
   "source": [
    "set1 = set(input(\"Enter first set of elements seperated by space:\").split())\n",
    "set2 =  set(input(\"Enter second set of elements seperated by space:\").split())\n",
    "intersection = set1.intersection(set2)\n",
    "union = set1.union(set2)\n",
    "subset = set1.issubset(set2)\n",
    "subset1 = set2.issubset(set1)\n",
    "print(\"intersection:\", intersection)\n",
    "print(\"union:\", union)\n",
    "print(\"subset:\",subset )\n",
    "print(\"subset1:\", subset1)"
   ]
  },
  {
   "cell_type": "markdown",
   "id": "19e53d91",
   "metadata": {},
   "source": [
    "# Tuples\n",
    "a. Write a Python program to create a tuple with numbers and print the first and last elements of the tuple.\n",
    "b. Write a Python program to find the length of a given tuple.\n",
    "c. Write a Python program to concatenate two tuples.\n",
    "d. Write a Python program to create a tuple with elements of different data types and print each element."
   ]
  },
  {
   "cell_type": "code",
   "execution_count": 42,
   "id": "1d92e974",
   "metadata": {},
   "outputs": [
    {
     "name": "stdout",
     "output_type": "stream",
     "text": [
      "1\n",
      "8\n"
     ]
    }
   ],
   "source": [
    "r = (1,2,3,4,5,6,7,8)\n",
    "print(r[0])\n",
    "print(r[-1])\n"
   ]
  },
  {
   "cell_type": "code",
   "execution_count": 43,
   "id": "fb65f405",
   "metadata": {},
   "outputs": [
    {
     "data": {
      "text/plain": [
       "8"
      ]
     },
     "execution_count": 43,
     "metadata": {},
     "output_type": "execute_result"
    }
   ],
   "source": [
    "len(r)"
   ]
  },
  {
   "cell_type": "code",
   "execution_count": 44,
   "id": "87639e9c",
   "metadata": {},
   "outputs": [
    {
     "data": {
      "text/plain": [
       "(1, 2, 3, 4, 5, 6, 7, 8, 9, 10, 11, 12, 13, 14, 15, 16)"
      ]
     },
     "execution_count": 44,
     "metadata": {},
     "output_type": "execute_result"
    }
   ],
   "source": [
    "r = (1,2,3,4,5,6,7,8)\n",
    "s = (9,10,11,12,13,14,15,16)\n",
    "r+s"
   ]
  },
  {
   "cell_type": "code",
   "execution_count": 54,
   "id": "9b11cd8f",
   "metadata": {},
   "outputs": [
    {
     "name": "stdout",
     "output_type": "stream",
     "text": [
      "hello\n",
      "1\n",
      "2\n",
      "rise\n",
      "10\n",
      "2.5\n"
     ]
    }
   ],
   "source": [
    "t = (\"hello\", 1,2,\"rise\",10, 2.5)\n",
    "\n",
    "print(*t,sep=\"\\n\")"
   ]
  },
  {
   "cell_type": "markdown",
   "id": "fa8774e5",
   "metadata": {},
   "source": [
    "# Dictionaries\n",
    "a. Write a Python program to create a dictionary with key-value pairs and print the dictionary.\n",
    "b. Write a Python program to remove a key from a dictionary.\n",
    "c. Write a Python program to sort a dictionary by key.\n",
    "d. Write a Python program to find the value associated with a given key in a dictionary."
   ]
  },
  {
   "cell_type": "code",
   "execution_count": 5,
   "id": "01990c68",
   "metadata": {},
   "outputs": [
    {
     "data": {
      "text/plain": [
       "{'groupa': ['single', 'multi', 'condo', 'condominium'],\n",
       " 'groupb': ['low', 'medium', 'high', 'average'],\n",
       " 'groupc': ['urban', 'rural', 'citi', 'metro']}"
      ]
     },
     "execution_count": 5,
     "metadata": {},
     "output_type": "execute_result"
    }
   ],
   "source": [
    "house_info = {\"groupa\":['single','multi' ,'condo' ,'condominium'],\n",
    "        \"groupb\":['low', 'medium' ,'high' ,'average'],\n",
    "        \"groupc\":['urban', 'rural' ,'citi' ,'metro']}\n",
    "house_info"
   ]
  },
  {
   "cell_type": "code",
   "execution_count": 6,
   "id": "e5b11c24",
   "metadata": {},
   "outputs": [
    {
     "name": "stdout",
     "output_type": "stream",
     "text": [
      "{'groupb': ['low', 'medium', 'high', 'average'], 'groupc': ['urban', 'rural', 'citi', 'metro']}\n"
     ]
    }
   ],
   "source": [
    "del house_info[\"groupa\"]\n",
    "print(house_info)"
   ]
  },
  {
   "cell_type": "code",
   "execution_count": 7,
   "id": "79513b2a",
   "metadata": {},
   "outputs": [
    {
     "name": "stdout",
     "output_type": "stream",
     "text": [
      "apple\n",
      "apple\n",
      "banana\n",
      "orange\n",
      "orange\n",
      "pear\n"
     ]
    }
   ],
   "source": [
    "basket = ['apple', 'orange', 'apple', 'pear', 'orange', 'banana']\n",
    "for i in sorted(basket):\n",
    "    print(i)"
   ]
  },
  {
   "cell_type": "code",
   "execution_count": 8,
   "id": "176bb4f1",
   "metadata": {},
   "outputs": [
    {
     "name": "stdout",
     "output_type": "stream",
     "text": [
      "['low', 'medium', 'high', 'average']\n"
     ]
    }
   ],
   "source": [
    "print(house_info['groupb'])"
   ]
  },
  {
   "cell_type": "markdown",
   "id": "ece922f8",
   "metadata": {},
   "source": [
    "# Strings\n",
    "1) Write a Python program that takes a user input string and checks if it's a palindrome (i.e., the string is the same when reversed).\n",
    "\n",
    "2) Create a program that takes two strings as input and concatenates them into a single string. Then, print out the resulting string in all uppercase letters.\n",
    "\n",
    "3) Develop a program that reads in a string and counts the number of vowels it contains.\n",
    "\n",
    "4) Build a program that prompts the user to input a sentence and prints out the sentence with all the words reversed.\n",
    "\n",
    "5) Write a Python program that takes a string and removes all the punctuation characters from it (e.g., commas, periods, etc.).\n",
    "\n",
    "6) Create a program that reads in a string and capitalizes the first letter of every word in the string.\n",
    "\n",
    "7) Develop a program that takes a string and a target substring as input, then finds and replaces all occurrences of the target substring with a new specified string.\n",
    "\n",
    "8) Build a program that reads in a string and determines the frequency of each character in the string.\n",
    "\n",
    "9) Write a Python program that takes a string and returns a new string with all the vowels replaced by the letter 'o'.\n",
    "\n",
    "10) Create a program that prompts the user to input a sentence and prints out the longest word in the sentence."
   ]
  },
  {
   "cell_type": "code",
   "execution_count": 2,
   "id": "ee2cea44",
   "metadata": {},
   "outputs": [
    {
     "name": "stdout",
     "output_type": "stream",
     "text": [
      "enter a string:malayalam\n",
      "The string is a palindrome: malayalam\n"
     ]
    }
   ],
   "source": [
    "# Write a Python program that takes a user input string and checks if it's a palindrome (i.e., the string is the same when reversed).\n",
    "string = input(\"enter a string:\")\n",
    "new_str = string[::-1]\n",
    "if string == new_str:\n",
    "    print(\"The string is a palindrome:\", string)\n",
    "else:\n",
    "    print(\"Not a palindrome\")\n"
   ]
  },
  {
   "cell_type": "code",
   "execution_count": 3,
   "id": "86530ae1",
   "metadata": {},
   "outputs": [
    {
     "name": "stdout",
     "output_type": "stream",
     "text": [
      "enter a string:Hello,\n",
      "enter a string:I am learning Python\n"
     ]
    },
    {
     "data": {
      "text/plain": [
       "'HELLO,I AM LEARNING PYTHON'"
      ]
     },
     "execution_count": 3,
     "metadata": {},
     "output_type": "execute_result"
    }
   ],
   "source": [
    "# Create a program that takes two strings as input and concatenates them into a single string. Then, print out the resulting string in all uppercase letters.\n",
    "string1 = input(\"enter a string:\")\n",
    "string2 = input(\"enter a string:\")\n",
    "new_str = (string1+string2).upper()\n",
    "new_str"
   ]
  },
  {
   "cell_type": "code",
   "execution_count": 5,
   "id": "bddb5a97",
   "metadata": {},
   "outputs": [
    {
     "name": "stdout",
     "output_type": "stream",
     "text": [
      "The number of vowels in s: 8\n"
     ]
    }
   ],
   "source": [
    "# Develop a program that reads in a string and counts the number of vowels it contains.\n",
    "s = (\"HELLO,I AM LEARNING PYTHON\")\n",
    "\n",
    "vowels = 'aeiouAEIOU'\n",
    "count = 0\n",
    "for char in s:\n",
    "    if char in vowels:\n",
    "        count += 1\n",
    "print(\"The number of vowels in s:\", count)\n"
   ]
  },
  {
   "cell_type": "code",
   "execution_count": 6,
   "id": "8da07bfd",
   "metadata": {},
   "outputs": [
    {
     "name": "stdout",
     "output_type": "stream",
     "text": [
      "Enter a string:I am learning python\n",
      "nohtyp gninrael ma I\n"
     ]
    }
   ],
   "source": [
    "# Build a program that prompts the user to input a sentence and prints out the sentence with all the words reversed.\n",
    "t = input(\"Enter a string:\")\n",
    "f = t[::-1]\n",
    "print(f)"
   ]
  },
  {
   "cell_type": "code",
   "execution_count": 8,
   "id": "01f17785",
   "metadata": {},
   "outputs": [
    {
     "name": "stdout",
     "output_type": "stream",
     "text": [
      "hellopython\n"
     ]
    }
   ],
   "source": [
    "#Write a Python program that takes a string and removes all the punctuation\n",
    "s = \"hello!!,python,\"\n",
    "p = \"!,@\"\n",
    "output = ''\n",
    "for each_char in s:\n",
    "    if each_char not in p:\n",
    "        output+=each_char\n",
    "print(output)"
   ]
  },
  {
   "cell_type": "code",
   "execution_count": 9,
   "id": "37c63462",
   "metadata": {},
   "outputs": [
    {
     "data": {
      "text/plain": [
       "'Hello Python Is A Language'"
      ]
     },
     "execution_count": 9,
     "metadata": {},
     "output_type": "execute_result"
    }
   ],
   "source": [
    "#Create a program that reads in a string and capitalizes the first letter of every word in the string.\n",
    "\n",
    "s = \"hello python is a language\"\n",
    "ns = s.title() \n",
    "ns"
   ]
  },
  {
   "cell_type": "code",
   "execution_count": 1,
   "id": "7bfe35e9",
   "metadata": {},
   "outputs": [
    {
     "name": "stdout",
     "output_type": "stream",
     "text": [
      "enter a string:Hello everyone, I am new to this place\n",
      "enter a stringeveryone\n",
      "Hello respected, I am new to this place\n"
     ]
    }
   ],
   "source": [
    "# Develop a program that takes a string and a target substring as input, then finds and replaces all occurrences of the target substring with a new specified string\n",
    "string = input(\"enter a string:\")\n",
    "target = input(\"enter a string\")\n",
    "new = \"respected\"\n",
    "new_string = string.replace(target,new)\n",
    "print(new_string)"
   ]
  },
  {
   "cell_type": "code",
   "execution_count": 6,
   "id": "56a6cb70",
   "metadata": {},
   "outputs": [
    {
     "name": "stdout",
     "output_type": "stream",
     "text": [
      "enter a string:hey hello\n",
      "'hey hello' occurs {'h': 2, 'e': 2, 'y': 1, ' ': 1, 'l': 2, 'o': 1} times.\n"
     ]
    }
   ],
   "source": [
    "#Build a program that reads in a string and determines the frequency of each character in the string.\n",
    "Str = input(\"enter a string:\")\n",
    "frequency = {}\n",
    "for char in Str:\n",
    "    if char in frequency:\n",
    "        frequency[char]+=1\n",
    "    else:\n",
    "        frequency[char]=1\n",
    "        \n",
    "\n",
    "\n",
    "print(f\"'{Str}' occurs {frequency} times.\")\n",
    "        \n",
    "        "
   ]
  },
  {
   "cell_type": "code",
   "execution_count": 12,
   "id": "95059830",
   "metadata": {},
   "outputs": [
    {
     "name": "stdout",
     "output_type": "stream",
     "text": [
      "enter a string:hey have a good day\n",
      "hey have a good day **** hoy hovo o good doy\n"
     ]
    }
   ],
   "source": [
    "# Write a Python program that takes a string and returns a new string with all the vowels replaced by the letter 'o'.\n",
    "string = input(\"enter a string:\")\n",
    "new_string = \"\"\n",
    "vowels = 'aeiouAEIOU'\n",
    "for char in string:\n",
    "    if char in vowels:\n",
    "           new_string += 'o'\n",
    "        \n",
    "    else:\n",
    "        new_string += char \n",
    "        \n",
    "print(string,\"****\" , new_string)\n"
   ]
  },
  {
   "cell_type": "code",
   "execution_count": 13,
   "id": "7cfc5a4b",
   "metadata": {},
   "outputs": [
    {
     "name": "stdout",
     "output_type": "stream",
     "text": [
      "enter a stringI am learning python\n",
      "longest word in sentence: learning\n"
     ]
    }
   ],
   "source": [
    "# Create a program that prompts the user to input a sentence and prints out the longest word in the sentence.\n",
    "sentence = input(\"enter a string\")\n",
    "longest_word = \" \"\n",
    "words = sentence.split()\n",
    "for word in words:\n",
    "    if len(word) > len(longest_word):\n",
    "        longest_word = word\n",
    "print(\"longest word in sentence:\", longest_word)"
   ]
  },
  {
   "cell_type": "code",
   "execution_count": null,
   "id": "4b549803",
   "metadata": {},
   "outputs": [],
   "source": []
  }
 ],
 "metadata": {
  "kernelspec": {
   "display_name": "Python 3 (ipykernel)",
   "language": "python",
   "name": "python3"
  },
  "language_info": {
   "codemirror_mode": {
    "name": "ipython",
    "version": 3
   },
   "file_extension": ".py",
   "mimetype": "text/x-python",
   "name": "python",
   "nbconvert_exporter": "python",
   "pygments_lexer": "ipython3",
   "version": "3.9.7"
  }
 },
 "nbformat": 4,
 "nbformat_minor": 5
}
