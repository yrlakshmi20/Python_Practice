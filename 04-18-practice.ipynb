{
 "cells": [
  {
   "cell_type": "markdown",
   "id": "81a79a88",
   "metadata": {},
   "source": [
    "# Write a Python program that takes a list of integers and returns a new list with only the even numbers."
   ]
  },
  {
   "cell_type": "code",
   "execution_count": 14,
   "id": "870caadc",
   "metadata": {},
   "outputs": [
    {
     "ename": "TypeError",
     "evalue": "'int' object is not iterable",
     "output_type": "error",
     "traceback": [
      "\u001b[0;31m---------------------------------------------------------------------------\u001b[0m",
      "\u001b[0;31mTypeError\u001b[0m                                 Traceback (most recent call last)",
      "\u001b[0;32m/var/folders/71/s9hv949j4z13dzzgc8fwt4nr0000gn/T/ipykernel_2055/327160885.py\u001b[0m in \u001b[0;36m<module>\u001b[0;34m\u001b[0m\n\u001b[1;32m      2\u001b[0m     \u001b[0;32mif\u001b[0m \u001b[0mi\u001b[0m\u001b[0;34m%\u001b[0m\u001b[0;36m2\u001b[0m\u001b[0;34m==\u001b[0m\u001b[0;36m0\u001b[0m\u001b[0;34m:\u001b[0m\u001b[0;34m\u001b[0m\u001b[0;34m\u001b[0m\u001b[0m\n\u001b[1;32m      3\u001b[0m         \u001b[0mi\u001b[0m\u001b[0;34m==\u001b[0m \u001b[0meven\u001b[0m\u001b[0;34m\u001b[0m\u001b[0;34m\u001b[0m\u001b[0m\n\u001b[0;32m----> 4\u001b[0;31m         \u001b[0meven\u001b[0m\u001b[0;34m=\u001b[0m \u001b[0msum\u001b[0m\u001b[0;34m(\u001b[0m\u001b[0mi\u001b[0m\u001b[0;34m)\u001b[0m\u001b[0;34m\u001b[0m\u001b[0;34m\u001b[0m\u001b[0m\n\u001b[0m\u001b[1;32m      5\u001b[0m         \u001b[0mprint\u001b[0m\u001b[0;34m(\u001b[0m\u001b[0ma\u001b[0m\u001b[0;34m)\u001b[0m\u001b[0;34m\u001b[0m\u001b[0;34m\u001b[0m\u001b[0m\n",
      "\u001b[0;31mTypeError\u001b[0m: 'int' object is not iterable"
     ]
    }
   ],
   "source": [
    "for i in range(0,20):\n",
    "    if i%2==0:\n",
    "        i== even\n",
    "        even= sum(i)\n",
    "        print(a)"
   ]
  },
  {
   "cell_type": "markdown",
   "id": "9a73839d",
   "metadata": {},
   "source": [
    "## Create a Python program that takes in two numbers and returns their sum. If the two numbers are the same, return double their sum.\n"
   ]
  },
  {
   "cell_type": "code",
   "execution_count": 2,
   "id": "445a7f56",
   "metadata": {},
   "outputs": [
    {
     "name": "stdout",
     "output_type": "stream",
     "text": [
      "enter a number:10\n",
      "enter a number5\n",
      "15\n"
     ]
    }
   ],
   "source": [
    "a = int(input(\"enter a number:\"))\n",
    "b = int(input(\"enter a number\"))\n",
    "if a > b:\n",
    "    print(a+b)\n",
    "else:\n",
    "    a == b\n",
    "    print((a+b) * 2)"
   ]
  },
  {
   "cell_type": "code",
   "execution_count": null,
   "id": "2f98af66",
   "metadata": {},
   "outputs": [],
   "source": [
    "a = int(input(\"enter a number:\"))\n",
    "b = int(input(\"enter a number\"))\n",
    "if a > b:\n",
    "    print(a+b)\n",
    "else:\n",
    "    a == b\n",
    "    print((a+b) * 2)"
   ]
  },
  {
   "cell_type": "markdown",
   "id": "a74c928f",
   "metadata": {},
   "source": [
    "3.Write a Python program that reads in a string and prints out the frequency of each character in the string."
   ]
  },
  {
   "cell_type": "code",
   "execution_count": null,
   "id": "b8ae2bff",
   "metadata": {},
   "outputs": [],
   "source": [
    "str = input(\"enter a string:\")\n",
    "l= list(str)\n",
    "# print(l)\n",
    "freq = [l.count(ele) for ele in l]\n",
    "d = dict(zip(l,freq))\n",
    "print(d)"
   ]
  },
  {
   "cell_type": "markdown",
   "id": "4eeffcc7",
   "metadata": {},
   "source": [
    "4.Create a Python function that takes in a list of numbers and returns the average of the list. If the list is empty, return None.\n"
   ]
  },
  {
   "cell_type": "code",
   "execution_count": null,
   "id": "a29077f1",
   "metadata": {},
   "outputs": [],
   "source": [
    "x = [1,2,3,4,5]\n",
    "avg=sum(x)/len(x)\n",
    "print(avg)"
   ]
  },
  {
   "cell_type": "markdown",
   "id": "8837f1df",
   "metadata": {},
   "source": [
    "I tried mnay times this answer but I am getting error message as \"int obj not callable\""
   ]
  },
  {
   "cell_type": "markdown",
   "id": "9197e6af",
   "metadata": {},
   "source": [
    "5)  Write a Python program that takes in a list of strings and returns a new list with only the strings that have more than five characters."
   ]
  },
  {
   "cell_type": "code",
   "execution_count": null,
   "id": "6b11e7b3",
   "metadata": {},
   "outputs": [],
   "source": [
    "strings = ['hello', 'world', 'good', 'morning', 'everyone']\n",
    "\n",
    "filtered_strings = []\n",
    "for s in strings:\n",
    "    if len(s) > 5:\n",
    "        filtered_strings.append(s)\n",
    "\n",
    "print(filtered_strings)"
   ]
  },
  {
   "cell_type": "markdown",
   "id": "0685b587",
   "metadata": {},
   "source": [
    "6.Create a Python program  that takes in a list of integers and returns the second smallest number in the list."
   ]
  },
  {
   "cell_type": "code",
   "execution_count": null,
   "id": "47e3ef1e",
   "metadata": {},
   "outputs": [],
   "source": [
    "numbers = [9, 3, 5, 1, 8, 2, 7]\n",
    "\n",
    "if len(numbers) < 2:\n",
    "    print(\"List has less than 2 elements.\")\n",
    "else:\n",
    "    smallest = second_smallest = float('inf')\n",
    "    for number in numbers:\n",
    "        if number < smallest:\n",
    "            second_smallest = smallest\n",
    "            smallest = number\n",
    "        elif smallest < number < second_smallest:\n",
    "            second_smallest = number\n",
    "    print(\"The second smallest number in the list is:\", second_smallest)"
   ]
  },
  {
   "cell_type": "markdown",
   "id": "b3304a45",
   "metadata": {},
   "source": [
    "7. Write a Python program that takes in two lists of integers and returns a new list with the elements that are common to both lists."
   ]
  },
  {
   "cell_type": "code",
   "execution_count": null,
   "id": "93a0bc6f",
   "metadata": {},
   "outputs": [],
   "source": [
    "list1 = [1, 2, 3, 4, 5]\n",
    "list2 = [3, 4, 5, 6, 7]\n",
    "\n",
    "common = list(set(list1) & set(list2))\n",
    "\n",
    "print(common) "
   ]
  },
  {
   "cell_type": "markdown",
   "id": "d7d6fdfd",
   "metadata": {},
   "source": [
    "8. Create a Python function that takes in a string and returns a new string with every other character removed."
   ]
  },
  {
   "cell_type": "code",
   "execution_count": null,
   "id": "2a53fbfd",
   "metadata": {},
   "outputs": [],
   "source": [
    "string = \"Hello, world!\"\n",
    "new_string = string[::2]\n",
    "print(new_string)"
   ]
  },
  {
   "cell_type": "markdown",
   "id": "87abbab6",
   "metadata": {},
   "source": [
    "9.Write a Python program that takes in a list of numbers and prints out the maximum and minimum values in the list."
   ]
  },
  {
   "cell_type": "code",
   "execution_count": null,
   "id": "21ce4b2a",
   "metadata": {},
   "outputs": [],
   "source": [
    "numbers = [5, 9, 3, 1, 7, 2, 8, 6, 4]\n",
    "\n",
    "max_num = max(numbers)\n",
    "min_num = min(numbers)\n",
    "\n",
    "print(\"Maximum value:\", max_num)\n",
    "print(\"Minimum value:\", min_num)"
   ]
  },
  {
   "cell_type": "markdown",
   "id": "2f2b20b7",
   "metadata": {},
   "source": [
    "10.Create a Python program that takes in a string and returns True if the string is a palindrome, and False otherwise."
   ]
  },
  {
   "cell_type": "code",
   "execution_count": null,
   "id": "11a85bd4",
   "metadata": {},
   "outputs": [],
   "source": [
    "string = input(\"Enter a string: \")\n",
    "\n",
    "if string == string[::-1]:\n",
    "    print(\"The string is a palindrome.\")\n",
    "else:\n",
    "    print(\"The string is not a palindrome.\")"
   ]
  },
  {
   "cell_type": "markdown",
   "id": "4e76e9dc",
   "metadata": {},
   "source": [
    "Write a Python program that uses a for loop to print all the even numbers between 10 and 50."
   ]
  },
  {
   "cell_type": "code",
   "execution_count": null,
   "id": "59912eac",
   "metadata": {},
   "outputs": [],
   "source": [
    "for i in range(10,51):\n",
    "    if  i % 2 == 0:\n",
    "\n",
    "        print(i)\n",
    "    "
   ]
  },
  {
   "cell_type": "markdown",
   "id": "a2eb88c7",
   "metadata": {},
   "source": [
    "Write a Python program that uses a while loop to print the Fibonacci sequence up to the 10th term.\n"
   ]
  },
  {
   "cell_type": "code",
   "execution_count": null,
   "id": "3656c946",
   "metadata": {},
   "outputs": [
    {
     "name": "stdout",
     "output_type": "stream",
     "text": [
      "enter a range of number:10\n"
     ]
    }
   ],
   "source": [
    "number = int(input(\"enter a range of number:\"))\n",
    "\n",
    "i = 0\n",
    "first_value = 0\n",
    "second_value = 1\n",
    "while (i<number):\n",
    "    if (i <= 0):\n",
    "        Next = i\n",
    "    else:\n",
    "        Next = first_value + second_value\n",
    "        first_value = second_value\n",
    "        second_value = Next\n",
    "        print(Next)\n",
    "        i=i+1"
   ]
  },
  {
   "cell_type": "code",
   "execution_count": 3,
   "id": "44f7dcf1",
   "metadata": {},
   "outputs": [
    {
     "name": "stdout",
     "output_type": "stream",
     "text": [
      "* 1\n",
      "* 2\n",
      "* 3\n",
      "* 4\n"
     ]
    }
   ],
   "source": [
    "for i in range(1,5):\n",
    "    i == \"*\"\n",
    "    print(\"*\", i)"
   ]
  },
  {
   "cell_type": "code",
   "execution_count": 4,
   "id": "12181a39",
   "metadata": {},
   "outputs": [
    {
     "name": "stdout",
     "output_type": "stream",
     "text": [
      "*\n",
      "**\n",
      "***\n",
      "****\n",
      "*****\n"
     ]
    }
   ],
   "source": [
    "for i in range(1, 6):\n",
    "    print('*' * i)"
   ]
  },
  {
   "cell_type": "code",
   "execution_count": 5,
   "id": "b2176126",
   "metadata": {},
   "outputs": [
    {
     "name": "stdout",
     "output_type": "stream",
     "text": [
      "*\n",
      "**\n",
      "***\n",
      "****\n",
      "*****\n"
     ]
    }
   ],
   "source": [
    "for i in range(1, 6):\n",
    "    print('*' * i)"
   ]
  },
  {
   "cell_type": "code",
   "execution_count": 15,
   "id": "1f29b23e",
   "metadata": {},
   "outputs": [
    {
     "name": "stdout",
     "output_type": "stream",
     "text": [
      "[1, 2, 3, 4, 5, 6, 7, 8, 9, 10, 11, 12, 13, 14, 15, 16, 17, 18, 19, 20]\n",
      "even numbers [2, 4, 6, 8, 10, 12, 14, 16, 18, 20]\n",
      "odd numbers [1, 3, 5, 7, 9, 11, 13, 15, 17, 19]\n"
     ]
    }
   ],
   "source": [
    "l2 = list(range(1,21))\n",
    "print(l2)\n",
    "\n",
    "even_numbers = []\n",
    "odd_numbers =[]   \n",
    "i = 0\n",
    "while i < len(l2):\n",
    "    if l2[i]%2:\n",
    "        odd_numbers.append(l2[i])\n",
    "    else:\n",
    "        even_numbers.append(l2[i])\n",
    "    i += 1\n",
    "print(\"even numbers\", even_numbers)\n",
    "print(\"odd numbers\", odd_numbers)"
   ]
  },
  {
   "cell_type": "markdown",
   "id": "aa8262e9",
   "metadata": {},
   "source": [
    "Write a Python program that takes a list of integers as input and prints the sum of all the even numbers in the list using a for loop."
   ]
  },
  {
   "cell_type": "code",
   "execution_count": 25,
   "id": "d2fc10a6",
   "metadata": {},
   "outputs": [
    {
     "name": "stdout",
     "output_type": "stream",
     "text": [
      "55\n"
     ]
    }
   ],
   "source": [
    "list = [1,2,3,4,5,6,7,8,9,10]\n",
    "even_num = [l for l in list if l%2==0]\n",
    "sum_even = sum(list)\n",
    "print(sum_even)\n",
    "    "
   ]
  },
  {
   "cell_type": "markdown",
   "id": "50067ed6",
   "metadata": {},
   "source": [
    ") Write a Python program that uses a while loop to find and print the largest number in a list of numbers."
   ]
  },
  {
   "cell_type": "code",
   "execution_count": 78,
   "id": "89b06bc5",
   "metadata": {},
   "outputs": [
    {
     "name": "stdout",
     "output_type": "stream",
     "text": [
      "largest number is : 59\n"
     ]
    }
   ],
   "source": [
    "n = [23,43,54,21,32,59,26,20]\n",
    "i = 0\n",
    "largest = n[0]\n",
    "while i < len(n):\n",
    "    if  n[i] > largest:\n",
    "            largest = n[i]\n",
    "                      \n",
    "        \n",
    "    i += 1   \n",
    "print(\"largest number is :\", largest)"
   ]
  },
  {
   "cell_type": "code",
   "execution_count": 77,
   "id": "83305376",
   "metadata": {},
   "outputs": [
    {
     "name": "stdout",
     "output_type": "stream",
     "text": [
      "The highest number in the list is: 30\n"
     ]
    }
   ],
   "source": [
    "# Example list of numbers\n",
    "numbers = [10, 20, 5, 25, 30]\n",
    "\n",
    "# Initialize variables\n",
    "i = 0\n",
    "highest = numbers[0]\n",
    "\n",
    "# Loop through the list using a while loop\n",
    "while i < len(numbers):\n",
    "    if numbers[i] > highest:\n",
    "        highest = numbers[i]\n",
    "    i += 1\n",
    "\n",
    "# Print the highest number\n",
    "print(\"The highest number in the list is:\", highest)"
   ]
  },
  {
   "cell_type": "markdown",
   "id": "e46b3c8a",
   "metadata": {},
   "source": [
    " Write a Python program that takes a string as input and prints the number of vowels in the string using a for loop."
   ]
  },
  {
   "cell_type": "code",
   "execution_count": 112,
   "id": "7f59db28",
   "metadata": {},
   "outputs": [
    {
     "name": "stdout",
     "output_type": "stream",
     "text": [
      "Enter a string:hey how are you\n",
      "vowels in string: 6\n"
     ]
    }
   ],
   "source": [
    "str = input(\"Enter a string:\")\n",
    "vowels = 0\n",
    "\n",
    "\n",
    "for char in str:\n",
    "    if char in 'aeiou':\n",
    "        \n",
    "        vowels += 1\n",
    "print(\"vowels in string:\",vowels)\n",
    "        "
   ]
  },
  {
   "cell_type": "code",
   "execution_count": null,
   "id": "a440fc53",
   "metadata": {},
   "outputs": [],
   "source": []
  },
  {
   "cell_type": "code",
   "execution_count": null,
   "id": "4a1ef8f9",
   "metadata": {},
   "outputs": [],
   "source": []
  },
  {
   "cell_type": "code",
   "execution_count": null,
   "id": "bc1915a0",
   "metadata": {},
   "outputs": [],
   "source": []
  },
  {
   "cell_type": "code",
   "execution_count": null,
   "id": "451ade8c",
   "metadata": {},
   "outputs": [],
   "source": []
  },
  {
   "cell_type": "code",
   "execution_count": null,
   "id": "3fae1345",
   "metadata": {},
   "outputs": [],
   "source": []
  },
  {
   "cell_type": "code",
   "execution_count": null,
   "id": "ca09b71c",
   "metadata": {},
   "outputs": [],
   "source": []
  },
  {
   "cell_type": "code",
   "execution_count": null,
   "id": "77de0ad9",
   "metadata": {},
   "outputs": [],
   "source": []
  },
  {
   "cell_type": "code",
   "execution_count": null,
   "id": "8411a2ae",
   "metadata": {},
   "outputs": [],
   "source": []
  },
  {
   "cell_type": "code",
   "execution_count": null,
   "id": "5b0a99f3",
   "metadata": {},
   "outputs": [],
   "source": []
  },
  {
   "cell_type": "code",
   "execution_count": null,
   "id": "f6a90a7a",
   "metadata": {},
   "outputs": [],
   "source": []
  }
 ],
 "metadata": {
  "kernelspec": {
   "display_name": "Python 3 (ipykernel)",
   "language": "python",
   "name": "python3"
  },
  "language_info": {
   "codemirror_mode": {
    "name": "ipython",
    "version": 3
   },
   "file_extension": ".py",
   "mimetype": "text/x-python",
   "name": "python",
   "nbconvert_exporter": "python",
   "pygments_lexer": "ipython3",
   "version": "3.9.7"
  }
 },
 "nbformat": 4,
 "nbformat_minor": 5
}
