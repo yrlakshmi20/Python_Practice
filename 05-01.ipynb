{
 "cells": [
  {
   "cell_type": "code",
   "execution_count": 6,
   "id": "e1318d57",
   "metadata": {},
   "outputs": [
    {
     "name": "stdout",
     "output_type": "stream",
     "text": [
      "enter name:gopalakrishna\n",
      "enter_age50\n",
      "Hello gopalakrishna, you are 50 years old.\n"
     ]
    }
   ],
   "source": [
    "#1) Write a Python program that asks the user for their name and age, and then prints out a message that says \"Hello [name], you are [age] years old.\"\n",
    "name = input(\"enter name:\")\n",
    "age = input('enter_age')\n",
    "print(f\"Hello {name}, you are {age} years old.\")\n"
   ]
  },
  {
   "cell_type": "code",
   "execution_count": 12,
   "id": "4a9da342",
   "metadata": {},
   "outputs": [
    {
     "name": "stdout",
     "output_type": "stream",
     "text": [
      "enter length of rec8\n",
      "enter width of rec4\n",
      "The area of rectangle is: 32\n"
     ]
    }
   ],
   "source": [
    "#2) Write a Python program that calculates the area of a rectangle. The program should ask the user for the length and width of the rectangle and then print out the area.\n",
    "l = int(input('enter length of rec'))\n",
    "b = int(input('enter width of rec'))\n",
    "if l > b:\n",
    "    area = l*b\n",
    "    print(\"The area of rectangle is:\", area)\n",
    "else:\n",
    "    print(\"The length should be greater than width\")"
   ]
  },
  {
   "cell_type": "code",
   "execution_count": 25,
   "id": "cb6dd7f6",
   "metadata": {},
   "outputs": [
    {
     "name": "stdout",
     "output_type": "stream",
     "text": [
      "sum of numbers is: 15\n"
     ]
    }
   ],
   "source": [
    "#3) Write a Python program that takes a list of numbers and returns the sum of those numbers\n",
    "def sum_num(numbers):\n",
    "    total = 0\n",
    "    for num in numbers:\n",
    "        total += num \n",
    "           \n",
    "    return total\n",
    "            \n",
    "my_num = [1,2,3,4,5]\n",
    "result = sum_num(my_num)\n",
    "print(\"sum of numbers is:\", result)\n",
    "        \n",
    "    "
   ]
  },
  {
   "cell_type": "code",
   "execution_count": null,
   "id": "d414c1f7",
   "metadata": {},
   "outputs": [],
   "source": []
  }
 ],
 "metadata": {
  "kernelspec": {
   "display_name": "Python 3 (ipykernel)",
   "language": "python",
   "name": "python3"
  },
  "language_info": {
   "codemirror_mode": {
    "name": "ipython",
    "version": 3
   },
   "file_extension": ".py",
   "mimetype": "text/x-python",
   "name": "python",
   "nbconvert_exporter": "python",
   "pygments_lexer": "ipython3",
   "version": "3.9.7"
  }
 },
 "nbformat": 4,
 "nbformat_minor": 5
}
